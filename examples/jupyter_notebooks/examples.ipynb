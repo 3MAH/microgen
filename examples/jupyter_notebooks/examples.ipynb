{
 "cells": [
  {
   "cell_type": "code",
   "execution_count": 1,
   "metadata": {},
   "outputs": [
    {
     "name": "stdout",
     "output_type": "stream",
     "text": [
      "Overwriting auto display for cadquery Workplane and Shape\n"
     ]
    }
   ],
   "source": [
    "import os\n",
    "import numpy as np\n",
    "import cadquery as cq\n",
    "from microgen import *\n",
    "\n",
    "from jupyter_cadquery import show, set_defaults, open_viewer\n",
    "from jupyter_cadquery.replay import enable_replay, disable_replay, reset_replay, get_context, replay, Replay, _CTX\n",
    "from jupyter_cadquery.cad_objects import to_assembly\n",
    "\n",
    "cv = open_viewer(\"Box\", cad_width=640, height=480)\n",
    "\n",
    "set_defaults(reset_camera=True, show_parent=False, axes=True, axes0=True)"
   ]
  },
  {
   "cell_type": "markdown",
   "metadata": {},
   "source": [
    "# Shapes available"
   ]
  },
  {
   "cell_type": "code",
   "execution_count": 12,
   "metadata": {},
   "outputs": [
    {
     "name": "stdout",
     "output_type": "stream",
     "text": [
      " \n"
     ]
    },
    {
     "data": {
      "text/plain": [
       "<cad_viewer_widget.widget.CadViewer at 0x7fbcbc390970>"
      ]
     },
     "execution_count": 12,
     "metadata": {},
     "output_type": "execute_result"
    }
   ],
   "source": [
    "shapes = {\"box\":             {\"dim_x\": 0.8, \"dim_y\": 0.8, \"dim_z\": 0.8},\n",
    "          \"sphere\":          {\"radius\": 0.5},\n",
    "          \"capsule\":         {\"height\": 0.5, \"radius\": 0.3},\n",
    "          \"cylinder\":        {\"height\": 0.5, \"radius\": 0.5},\n",
    "          \"ellipsoid\":       {\"a_x\": 0.5, \"a_y\": 0.25, \"a_z\": 0.3},\n",
    "          \"extrudedpolygon\": {\"listCorners\": [(0.5, 0), (0.25, 0.44), (-0.25, 0.44), \n",
    "                                              (-0.5, 0), (-0.25, -0.44), (0.25, -0.44), (0.5, 0)],\n",
    "                              \"height\": 0.5}} #, \"polyhedron\":      {\"dic\": }}\n",
    "\n",
    "\n",
    "assembly = cq.Assembly()\n",
    "\n",
    "n_col = 3\n",
    "n_row = np.ceil(len(shapes)/n_col)\n",
    "i = 0\n",
    "for shape, param_geom in shapes.items():\n",
    "    i_x = i%n_col\n",
    "    i_y = i//n_col\n",
    "    elem = BasicGeometry(number=i, shape=shape,\n",
    "                         xc= 1.2*(i_x - 0.5*(n_col - 1)), \n",
    "                         yc=-1.2*(i_y - 0.5*(n_row - 1)), \n",
    "                         zc=0,\n",
    "                         psi=90, theta=90, phi=90,\n",
    "                         param_geom=param_geom)\n",
    "    assembly.add(elem.generate())\n",
    "    i = i + 1\n",
    "\n",
    "shapes = assembly.toCompound()\n",
    "show(shapes)"
   ]
  },
  {
   "cell_type": "markdown",
   "metadata": {},
   "source": [
    "# Honeycomb"
   ]
  },
  {
   "cell_type": "code",
   "execution_count": 11,
   "metadata": {},
   "outputs": [
    {
     "name": "stdout",
     "output_type": "stream",
     "text": [
      " \n"
     ]
    },
    {
     "data": {
      "text/plain": [
       "<cad_viewer_widget.widget.CadViewer at 0x7fbcbc390970>"
      ]
     },
     "execution_count": 11,
     "metadata": {},
     "output_type": "execute_result"
    }
   ],
   "source": [
    "l = 2.5 # side in mm of the hexagon\n",
    "h = 2.5 # height in mm of the hexagon\n",
    "theta = 30*np.pi/180 # half angle of the hexagone \n",
    "density = 0.5 # relative density (roh*/roh_s) of the honeycomb\n",
    "\n",
    "sampleThickness = 30 # mm\n",
    "\n",
    "h1 = np.cos(theta)*l\n",
    "h2 = abs(np.sin(theta)*l)\n",
    "\n",
    "# t = density*(2*h1*(h/l + abs(np.sin(theta))))/(h/l + 2)\n",
    "\n",
    "\n",
    "\n",
    "\n",
    "sampleThickness = 30\n",
    "\n",
    "\n",
    "g = open(\"seedList.data\", 'r', encoding=\"iso-8859-15\") # open data file\n",
    "\n",
    "seedList = [[1,1,1]]\n",
    "\n",
    "\n",
    "seedList = np.genfromtxt(g, delimiter = '\\t')\n",
    "\n",
    "box = BasicGeometry(number=0,\n",
    "                    shape='box',\n",
    "                    xc=0, yc=0, zc=0,\n",
    "                    psi=0, theta=0, phi=0,\n",
    "                    param_geom={\"dim_x\": sampleThickness,\n",
    "                                \"dim_y\": 60,\n",
    "                                \"dim_z\": 60})\n",
    "\n",
    "phases = []\n",
    "for seed in seedList:\n",
    "    poly = BasicGeometry(number=0,\n",
    "                         shape='extrudedpolygon',\n",
    "                         xc=seed[0] - sampleThickness, yc=seed[1], zc=seed[2],\n",
    "                         psi=0, theta=0, phi=0,\n",
    "                         param_geom={\"listCorners\": [(0, h2 + h/2), (h1, h/2), \n",
    "                                                     (h1, -h/2), (0, -h2 - h/2), \n",
    "                                                     (-h1, -h/2), (-h1, h/2), \n",
    "                                                     (0, h2 + h/2)],\n",
    "                                     \"height\": sampleThickness})\n",
    "    phases.append(poly.generate())\n",
    "    \n",
    "\n",
    "# generate CAD geometry\n",
    "denseSample = box.generate()\n",
    "\n",
    "honeycomb = cutPhaseByShapeList(phaseToCut=denseSample, cqShapeList=phases)\n",
    "show(honeycomb[0])"
   ]
  },
  {
   "cell_type": "markdown",
   "metadata": {},
   "source": [
    "# Octet-Truss"
   ]
  },
  {
   "cell_type": "code",
   "execution_count": 10,
   "metadata": {},
   "outputs": [
    {
     "name": "stdout",
     "output_type": "stream",
     "text": [
      "[0, 0, 0, 0, 1, 0]\n",
      "[0, 0, 0, 0, 1, 0]\n",
      "[0, 0, 1, 0, 0, 0]\n",
      "[0, 0, 1, 0, 0, 0]\n",
      "[1, 0, 0, 0, 0, 0]\n",
      "[1, 0, 0, 0, 0, 0]\n",
      "[0, 0, 0, 0, 1, 0]\n",
      "[0, 0, 0, 0, 1, 0]\n",
      "[0, 0, 1, 0, 0, 0]\n",
      "[0, 0, 1, 0, 0, 0]\n",
      "[1, 0, 0, 0, 0, 0]\n",
      "[1, 0, 0, 0, 0, 0]\n",
      "[<cadquery.occ_impl.shapes.Shape object at 0x7fbcad8e04f0>, <cadquery.occ_impl.shapes.Shape object at 0x7fbcad8e0a90>, <cadquery.occ_impl.shapes.Shape object at 0x7fbcad8e0400>, <cadquery.occ_impl.shapes.Shape object at 0x7fbcad8e0880>, <cadquery.occ_impl.shapes.Shape object at 0x7fbcad8e0970>, <cadquery.occ_impl.shapes.Shape object at 0x7fbcad8e0c10>, <cadquery.occ_impl.shapes.Shape object at 0x7fbcad8e0340>, <cadquery.occ_impl.shapes.Shape object at 0x7fbcad8e0e80>, <cadquery.occ_impl.shapes.Shape object at 0x7fbcad8e0be0>, <cadquery.occ_impl.shapes.Shape object at 0x7fbcad8e0d90>, <cadquery.occ_impl.shapes.Shape object at 0x7fbcad8e0e50>, <cadquery.occ_impl.shapes.Shape object at 0x7fbcbc2bd0d0>]\n",
      "[[<cadquery.occ_impl.shapes.Solid object at 0x7fbcad8e0040>, <cadquery.occ_impl.shapes.Solid object at 0x7fbcad8e0700>], [<cadquery.occ_impl.shapes.Solid object at 0x7fbcad8e0c70>, <cadquery.occ_impl.shapes.Solid object at 0x7fbcad8e0100>], [<cadquery.occ_impl.shapes.Solid object at 0x7fbcad8e0ca0>, <cadquery.occ_impl.shapes.Solid object at 0x7fbcad8e09a0>], [<cadquery.occ_impl.shapes.Solid object at 0x7fbcad8f1fd0>, <cadquery.occ_impl.shapes.Solid object at 0x7fbcad8f1d90>], [<cadquery.occ_impl.shapes.Solid object at 0x7fbcad8f1670>, <cadquery.occ_impl.shapes.Solid object at 0x7fbcad8f1550>], [<cadquery.occ_impl.shapes.Solid object at 0x7fbcad8f1a30>, <cadquery.occ_impl.shapes.Solid object at 0x7fbcad8f1af0>], [<cadquery.occ_impl.shapes.Solid object at 0x7fbcad8f1c10>, <cadquery.occ_impl.shapes.Solid object at 0x7fbcad8f1c40>, <cadquery.occ_impl.shapes.Solid object at 0x7fbcad8f1910>, <cadquery.occ_impl.shapes.Solid object at 0x7fbcad8f1250>], [<cadquery.occ_impl.shapes.Solid object at 0x7fbcad8f1370>, <cadquery.occ_impl.shapes.Solid object at 0x7fbcad8f1bb0>], [<cadquery.occ_impl.shapes.Solid object at 0x7fbcad8f1a90>, <cadquery.occ_impl.shapes.Solid object at 0x7fbcad8f1eb0>, <cadquery.occ_impl.shapes.Solid object at 0x7fbcad8f1040>, <cadquery.occ_impl.shapes.Solid object at 0x7fbcad8f12e0>], [<cadquery.occ_impl.shapes.Solid object at 0x7fbcad8f1a60>, <cadquery.occ_impl.shapes.Solid object at 0x7fbcad8f1be0>], [<cadquery.occ_impl.shapes.Solid object at 0x7fbcad8f1100>, <cadquery.occ_impl.shapes.Solid object at 0x7fbcad8f1760>, <cadquery.occ_impl.shapes.Solid object at 0x7fbcad8f14c0>, <cadquery.occ_impl.shapes.Solid object at 0x7fbcad8f13a0>], [<cadquery.occ_impl.shapes.Solid object at 0x7fbcad8f1700>, <cadquery.occ_impl.shapes.Solid object at 0x7fbcad8f10d0>]]\n",
      "outside cut\n",
      " \n"
     ]
    },
    {
     "data": {
      "text/plain": [
       "<cad_viewer_widget.widget.CadViewer at 0x7fbcbc390970>"
      ]
     },
     "execution_count": 10,
     "metadata": {},
     "output_type": "execute_result"
    }
   ],
   "source": [
    "NPhases_file = 'test_octet.dat'\n",
    "\n",
    "dt = np.dtype([('number', int), ('shape', np.str_, 10),\n",
    "               ('xc', np.float64), ('yc', np.float64), ('zc', np.float64),\n",
    "               ('psi', np.float64), ('theta', np.float64), ('phi', np.float64),\n",
    "               ('a1', np.float64), ('a2', np.float64)])\n",
    "# précision du type des données\n",
    "number, shape, xc, yc, zc, psi, theta, phi, a1, a2, = np.loadtxt(NPhases_file, dtype=dt,\n",
    "                                                                 usecols=(0, 1, 2, 3, 4, 5, 6, 7, 8, 9),\n",
    "                                                                 skiprows=1, unpack=True, ndmin=1)\n",
    "\n",
    "\n",
    "rve = Rve(dim_x=1, dim_y=1, dim_z=1, size_mesh=0.03)\n",
    "listPhases = []\n",
    "listPeriodicPhases = []\n",
    "n = len(xc)\n",
    "\n",
    "for i in range(0, n):\n",
    "    elem = BasicGeometry(number=number[i], shape=shape[i],\n",
    "                         xc=xc[i], yc=yc[i], zc=zc[i],\n",
    "                         psi=psi[i], theta=theta[i], phi=phi[i],\n",
    "                         param_geom={\"height\": a1[i],\n",
    "                                     \"radius\": a2[i]},\n",
    "                         path_data='')\n",
    "    listPhases.append(elem.generate())\n",
    "    \n",
    "rve = Rve(dim_x=1, dim_y=1, dim_z=1, size_mesh=0.03)\n",
    "for phase_elem in listPhases:\n",
    "    periodicPhase = periodic(cqshape=phase_elem, rve=rve)\n",
    "    listPeriodicPhases.append(periodicPhase)\n",
    "\n",
    "phases_cut = cutParts(cqShapeList=[s[0] for s in listPeriodicPhases], reverseOrder=False)\n",
    "octet_truss = cq.Compound.makeCompound(phases_cut[0])\n",
    "show(octet_truss)"
   ]
  },
  {
   "cell_type": "markdown",
   "metadata": {},
   "source": [
    "# Periodic geometry"
   ]
  },
  {
   "cell_type": "code",
   "execution_count": 9,
   "metadata": {},
   "outputs": [
    {
     "name": "stdout",
     "output_type": "stream",
     "text": [
      " \n"
     ]
    },
    {
     "data": {
      "text/plain": [
       "<cad_viewer_widget.widget.CadViewer at 0x7fbcbc390970>"
      ]
     },
     "execution_count": 9,
     "metadata": {},
     "output_type": "execute_result"
    }
   ],
   "source": [
    "rve = Rve(dim_x=1, dim_y=1, dim_z=1, size_mesh=0.03)\n",
    "final_geom = repeatGeometry(octet_truss, rve, grid={\"x\": 3, \n",
    "                                                   \"y\": 3, \n",
    "                                                   \"z\": 3})\n",
    "\n",
    "show(final_geom)"
   ]
  },
  {
   "cell_type": "markdown",
   "metadata": {},
   "source": [
    "# Gyroid TPMS"
   ]
  },
  {
   "cell_type": "code",
   "execution_count": 4,
   "metadata": {},
   "outputs": [
    {
     "name": "stdout",
     "output_type": "stream",
     "text": [
      " \n"
     ]
    },
    {
     "data": {
      "text/plain": [
       "<cad_viewer_widget.widget.CadViewer at 0x7fbcbc390970>"
      ]
     },
     "execution_count": 4,
     "metadata": {},
     "output_type": "execute_result"
    }
   ],
   "source": [
    "elem = BasicGeometry(number=0, shape='tpms',\n",
    "                     xc=0.5, yc=0.5, zc=0.5,\n",
    "                     psi=0., theta=0., phi=0.,\n",
    "                     param_geom={\"type_surface\": 'gyroid',\n",
    "                                 \"type_part\": 'sheet',\n",
    "                                 \"thickness\": 0.1},\n",
    "                     path_data='data')\n",
    "# elem.geometry.createSurfaces(rve=rve,\n",
    "#                              sizeMesh=0.03, minFacetAngle=20., maxRadius=0.03,\n",
    "#                              path_data='data')\n",
    "# part = elem.generate(rve=rve)\n",
    "\n",
    "gyroid = cq.importers.importStep('gyroid.step')\n",
    "show(gyroid)"
   ]
  },
  {
   "cell_type": "code",
   "execution_count": 5,
   "metadata": {},
   "outputs": [
    {
     "name": "stdout",
     "output_type": "stream",
     "text": [
      " \n"
     ]
    },
    {
     "data": {
      "text/plain": [
       "<cad_viewer_widget.widget.CadViewer at 0x7fbcbc390970>"
      ]
     },
     "execution_count": 5,
     "metadata": {},
     "output_type": "execute_result"
    }
   ],
   "source": [
    "rve = Rve(dim_x=1, dim_y=1, dim_z=1, size_mesh=0.03)\n",
    "final_geom = repeatGeometry(gyroid, rve, grid={\"x\": 3, \n",
    "                                               \"y\": 3, \n",
    "                                               \"z\": 3})\n",
    "show(final_geom)"
   ]
  },
  {
   "cell_type": "markdown",
   "metadata": {},
   "source": [
    "# Raster shape"
   ]
  },
  {
   "cell_type": "code",
   "execution_count": 2,
   "metadata": {},
   "outputs": [
    {
     "name": "stdout",
     "output_type": "stream",
     "text": [
      " \n"
     ]
    },
    {
     "data": {
      "text/plain": [
       "<cad_viewer_widget.widget.CadViewer at 0x7fbcbc390970>"
      ]
     },
     "execution_count": 2,
     "metadata": {},
     "output_type": "execute_result"
    }
   ],
   "source": [
    "rve = Rve(dim_x=1, dim_y=1, dim_z=1, size_mesh=0.03)\n",
    "elem = BasicGeometry(number=101, shape='ellipsoid',\n",
    "                     xc=0.5, yc=0.5, zc=0.5,\n",
    "                     psi=0, theta=0, phi=0,\n",
    "                     param_geom={\"a_x\": 0.4,\n",
    "                                 \"a_y\": 0.25,\n",
    "                                 \"a_z\": 0.3},\n",
    "                     path_data='')\n",
    "elli = elem.generate(rve=rve)\n",
    "\n",
    "raster = rasterShapeList(cqShapeList=[elli], rve=rve, grid=[5, 5, 5])\n",
    "\n",
    "compound = cq.Compound.makeCompound(raster[0])\n",
    "show(compound)"
   ]
  },
  {
   "cell_type": "code",
   "execution_count": null,
   "metadata": {},
   "outputs": [],
   "source": []
  }
 ],
 "metadata": {
  "kernelspec": {
   "display_name": "Python 3 (ipykernel)",
   "language": "python",
   "name": "python3"
  },
  "language_info": {
   "codemirror_mode": {
    "name": "ipython",
    "version": 3
   },
   "file_extension": ".py",
   "mimetype": "text/x-python",
   "name": "python",
   "nbconvert_exporter": "python",
   "pygments_lexer": "ipython3",
   "version": "3.9.12"
  }
 },
 "nbformat": 4,
 "nbformat_minor": 4
}
