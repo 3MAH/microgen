{
 "cells": [
  {
   "cell_type": "code",
   "execution_count": null,
   "metadata": {},
   "outputs": [],
   "source": [
    "import numpy as np\n",
    "import cadquery as cq\n",
    "from microgen import *\n",
    "\n",
    "from jupyter_cadquery import show, set_defaults, open_viewer, Part\n",
    "from jupyter_cadquery.replay import enable_replay, disable_replay, reset_replay, get_context, replay, Replay, _CTX\n",
    "from jupyter_cadquery.cad_objects import to_assembly\n",
    "\n",
    "cv = open_viewer(\"Box\", cad_width=640, height=480)\n",
    "\n",
    "set_defaults(reset_camera=True, show_parent=False, axes=True, axes0=True)"
   ]
  },
  {
   "cell_type": "markdown",
   "metadata": {},
   "source": [
    "# Shapes available"
   ]
  },
  {
   "cell_type": "code",
   "execution_count": null,
   "metadata": {},
   "outputs": [],
   "source": [
    "shapes = {\"box\":             {\"dim\": (0.8, 0.8, 0.8)},\n",
    "          \"sphere\":          {\"radius\": 0.5},\n",
    "          \"capsule\":         {\"height\": 0.5, \"radius\": 0.3},\n",
    "          \"cylinder\":        {\"height\": 0.5, \"radius\": 0.5},\n",
    "          \"ellipsoid\":       {\"radii\": (0.5, 0.25, 0.3)},\n",
    "          \"extrudedpolygon\": {\"listCorners\": [(0.5, 0), (0.25, 0.44), (-0.25, 0.44), \n",
    "                                              (-0.5, 0), (-0.25, -0.44), (0.25, -0.44), (0.5, 0)],\n",
    "                              \"height\": 0.5}} #, \"polyhedron\":      {\"dic\": }}\n",
    "\n",
    "\n",
    "assembly = cq.Assembly(name=\"Assembly\")\n",
    "\n",
    "n_col = 3\n",
    "n_row = np.ceil(len(shapes)/n_col)\n",
    "i = 0\n",
    "for shape, param_geom in shapes.items():\n",
    "    i_x = i%n_col\n",
    "    i_y = i//n_col\n",
    "    elem = newGeometry(\n",
    "        shape=shape,\n",
    "        center=(1.2 * (i_x - 0.5 * (n_col - 1)), -1.2 * (i_y - 0.5 * (n_row - 1)), 0),\n",
    "        orientation=(90, 90, 90),\n",
    "        param_geom=param_geom,\n",
    "    )\n",
    "    assembly.add(elem.generate(), name=elem.shape)\n",
    "    i = i + 1\n",
    "\n",
    "show(assembly)"
   ]
  },
  {
   "cell_type": "markdown",
   "metadata": {},
   "source": [
    "# Honeycomb"
   ]
  },
  {
   "cell_type": "code",
   "execution_count": null,
   "metadata": {},
   "outputs": [],
   "source": [
    "from microgen import Box, ExtrudedPolygon, Phase, cutPhaseByShapeList, mesh\n",
    "import numpy as np\n",
    "import cadquery as cq\n",
    "\n",
    "side_length = 2.5  # side in mm of the hexagon\n",
    "poly_height = 2.5  # height in mm of the hexagon\n",
    "theta = 30 * np.pi / 180  # half angle of the hexagone\n",
    "\n",
    "h0 = 0.5 * poly_height\n",
    "h1 = np.cos(theta) * side_length\n",
    "h2 = abs(np.sin(theta) * side_length)\n",
    "\n",
    "thickness = 30  # mm\n",
    "\n",
    "with open('seedList.data', 'r') as f:\n",
    "    seedList = [[1, 1, 1]]\n",
    "    seedList = np.genfromtxt(f, delimiter=\"\\t\")\n",
    "\n",
    "box = Box(dim=(thickness, 60, 60))\n",
    "\n",
    "shapeList = []\n",
    "for seed in seedList:\n",
    "    poly = ExtrudedPolygon(\n",
    "        center=(seed[0] - thickness, seed[1], seed[2]),\n",
    "        listCorners=[\n",
    "            (0, h2 + h0),\n",
    "            (h1, h0),\n",
    "            (h1, -h0),\n",
    "            (0, -h2 - h0),\n",
    "            (-h1, -h0),\n",
    "            (-h1, h0),\n",
    "            (0, h2 + h0),\n",
    "        ],\n",
    "        height=thickness,\n",
    "    )\n",
    "    shapeList.append(poly.generate())\n",
    "\n",
    "boxPhase = Phase(shape=box.generate())\n",
    "\n",
    "honeycomb = cutPhaseByShapeList(phaseToCut=boxPhase, cqShapeList=shapeList)\n",
    "show(honeycomb.shape)"
   ]
  },
  {
   "cell_type": "markdown",
   "metadata": {},
   "source": [
    "# Octet-Truss"
   ]
  },
  {
   "cell_type": "code",
   "execution_count": null,
   "metadata": {},
   "outputs": [],
   "source": [
    "import os\n",
    "import numpy as np\n",
    "import cadquery as cq\n",
    "from microgen import (\n",
    "    Rve,\n",
    "    Cylinder,\n",
    "    periodic,\n",
    "    cutPhases,\n",
    "    meshPeriodic,\n",
    "    Phase,\n",
    ")\n",
    "\n",
    "# ----------LOADTXT------------------------------------------------------------------------------------------#\n",
    "\n",
    "dir = os.path.dirname(os.path.realpath(\"__file__\"))\n",
    "# path\n",
    "path_data = dir + \"/\"\n",
    "Ngeomphase_file = \"test_octet.dat\"\n",
    "\n",
    "# fichier\n",
    "NPhases_file = path_data + Ngeomphase_file\n",
    "\n",
    "dt = np.dtype(\n",
    "    [\n",
    "        (\"number\", int),\n",
    "        (\"shape\", np.str_, 10),\n",
    "        (\"xc\", np.float64),\n",
    "        (\"yc\", np.float64),\n",
    "        (\"zc\", np.float64),\n",
    "        (\"psi\", np.float64),\n",
    "        (\"theta\", np.float64),\n",
    "        (\"phi\", np.float64),\n",
    "        (\"a1\", np.float64),\n",
    "        (\"a2\", np.float64),\n",
    "    ]\n",
    ")\n",
    "# précision du type des données\n",
    "DATA = np.loadtxt(\n",
    "    NPhases_file,\n",
    "    dtype=dt,\n",
    "    usecols=(0, 1, 2, 3, 4, 5, 6, 7, 8, 9),\n",
    "    skiprows=1,\n",
    "    unpack=True,\n",
    "    ndmin=1,\n",
    ")\n",
    "\n",
    "xc = DATA[2]\n",
    "yc = DATA[3]\n",
    "zc = DATA[4]\n",
    "psi = DATA[5]\n",
    "theta = DATA[6]\n",
    "phi = DATA[7]\n",
    "height = DATA[8]\n",
    "radius = DATA[9]\n",
    "\n",
    "# sections = read_sections(path_data,section_file)\n",
    "\n",
    "rve = Rve(dim=1)\n",
    "listPhases = []\n",
    "listPeriodicPhases = []\n",
    "n = len(xc)\n",
    "\n",
    "for i in range(0, n):\n",
    "    elem = Cylinder(\n",
    "        center=(xc[i] - 0.5, yc[i] - 0.5, zc[i] - 0.5),\n",
    "        orientation=(psi[i], theta[i], phi[i]),\n",
    "        height=height[i],\n",
    "        radius=radius[i],\n",
    "    )\n",
    "    listPhases.append(Phase(shape=elem.generate()))\n",
    "\n",
    "for phase_elem in listPhases:\n",
    "    periodicPhase = periodic(phase=phase_elem, rve=rve)\n",
    "    listPeriodicPhases.append(periodicPhase)\n",
    "\n",
    "phases_cut = cutPhases(\n",
    "    phaseList=listPeriodicPhases, reverseOrder=False\n",
    ")\n",
    "octet_truss = cq.Compound.makeCompound([phase.shape for phase in phases_cut])\n",
    "show(Part(octet_truss))"
   ]
  },
  {
   "cell_type": "markdown",
   "metadata": {},
   "source": [
    "# Periodic geometry"
   ]
  },
  {
   "cell_type": "code",
   "execution_count": null,
   "metadata": {},
   "outputs": [],
   "source": [
    "rve = Rve(dim=1)\n",
    "final_geom = repeatShape(octet_truss, rve, grid=[3, 3, 3])\n",
    "\n",
    "show(final_geom)"
   ]
  },
  {
   "cell_type": "markdown",
   "metadata": {},
   "source": [
    "# Gyroid TPMS"
   ]
  },
  {
   "cell_type": "code",
   "execution_count": null,
   "metadata": {},
   "outputs": [],
   "source": [
    "from microgen import Tpms, surface_functions\n",
    "import cadquery as cq\n",
    "\n",
    "geometry = Tpms(\n",
    "    surface_function=surface_functions.gyroid,\n",
    "    offset=0.3,\n",
    ")\n",
    "shape = geometry.generate(type_part=\"sheet\")\n",
    "show(shape)"
   ]
  },
  {
   "cell_type": "markdown",
   "metadata": {},
   "source": [
    "# Raster shape"
   ]
  },
  {
   "cell_type": "code",
   "execution_count": null,
   "metadata": {},
   "outputs": [],
   "source": [
    "import cadquery as cq\n",
    "from microgen import Rve, Ellipsoid, mesh, Phase, rasterPhase\n",
    "\n",
    "rve = Rve(dim=1)\n",
    "\n",
    "elem = Ellipsoid(radii=(0.15, 0.31, 0.4))\n",
    "elli = elem.generate()\n",
    "\n",
    "raster = rasterPhase(phase=Phase(shape=elli), rve=rve, grid=[5, 5, 5])\n",
    "\n",
    "compound = cq.Compound.makeCompound([solid for phase in raster for solid in phase.solids])\n",
    "show(compound)"
   ]
  }
 ],
 "metadata": {
  "kernelspec": {
   "display_name": "Python 3 (ipykernel)",
   "language": "python",
   "name": "python3"
  },
  "language_info": {
   "codemirror_mode": {
    "name": "ipython",
    "version": 3
   },
   "file_extension": ".py",
   "mimetype": "text/x-python",
   "name": "python",
   "nbconvert_exporter": "python",
   "pygments_lexer": "ipython3",
   "version": "3.11.6"
  }
 },
 "nbformat": 4,
 "nbformat_minor": 4
}
