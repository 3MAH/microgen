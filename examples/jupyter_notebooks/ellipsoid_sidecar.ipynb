{
 "cells": [
  {
   "cell_type": "markdown",
   "metadata": {},
   "source": [
    "`conda create -n example-microgen -y`\n",
    "\n",
    "`conda activate example-microgen`\n",
    "\n",
    "`conda install -c conda-forge -c set3mah microgen -y`\n",
    "\n",
    "`pip install jupyter_cadquery`\n",
    "\n",
    "`conda install jupyterlab`\n",
    "\n",
    "Run this notebook with jupyter-lab"
   ]
  },
  {
   "cell_type": "code",
   "execution_count": null,
   "metadata": {},
   "outputs": [],
   "source": [
    "from microgen import *\n",
    "\n",
    "ellipsoid = Ellipsoid(a_x=0.3, a_y=0.3, a_z=0.4)\n",
    "shape = ellipsoid.generate()\n",
    "\n",
    "solids = shape.Solids()\n",
    "\n",
    "from jupyter_cadquery import show, set_defaults, open_viewer\n",
    "from jupyter_cadquery.replay import enable_replay, disable_replay, reset_replay, get_context, replay, Replay, _CTX\n",
    "from jupyter_cadquery.cad_objects import to_assembly\n",
    "\n",
    "cv = open_viewer(\"Box\", cad_width=640, height=480)\n",
    "\n",
    "set_defaults(reset_camera=True, show_parent=False, axes=True, axes0=True)\n",
    "\n",
    "show(solids[0])"
   ]
  }
 ],
 "metadata": {
  "kernelspec": {
   "display_name": "Python 3 (ipykernel)",
   "language": "python",
   "name": "python3"
  },
  "language_info": {
   "codemirror_mode": {
    "name": "ipython",
    "version": 3
   },
   "file_extension": ".py",
   "mimetype": "text/x-python",
   "name": "python",
   "nbconvert_exporter": "python",
   "pygments_lexer": "ipython3",
   "version": "3.9.13"
  }
 },
 "nbformat": 4,
 "nbformat_minor": 4
}
