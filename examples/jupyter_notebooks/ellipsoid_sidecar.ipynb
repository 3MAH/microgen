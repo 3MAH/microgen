{
 "cells": [
  {
   "cell_type": "markdown",
   "metadata": {},
   "source": [
    "`conda create -n example-microgen -y`\n",
    "\n",
    "`conda activate example-microgen`\n",
    "\n",
    "`conda install -c conda-forge -c cadquery -c set3mah microgen -y`\n",
    "\n",
    "`pip install jupyter_cadquery`\n",
    "\n",
    "`conda install jupyterlab`\n",
    "\n",
    "Run this notebook with jupyter-lab"
   ]
  },
  {
   "cell_type": "code",
   "execution_count": null,
   "metadata": {},
   "outputs": [],
   "source": [
    "import numpy as np\n",
    "import cadquery as cq\n",
    "import gmsh\n",
    "from microgen import *\n",
    "\n",
    "nx=30\n",
    "ny=30\n",
    "nz=30\n",
    "\n",
    "x_ = np.linspace(0., 1., nx)\n",
    "y_ = np.linspace(0., 1., ny)\n",
    "z_ = np.linspace(0., 1., nz)\n",
    "\n",
    "x, y, z = np.meshgrid(x_, y_, z_, indexing='ij')\n",
    "\n",
    "#Size of the mesh\n",
    "size_mesh = 0.03\n",
    "a = 1.0\n",
    "b = 1.0\n",
    "c = 1.0\n",
    "\n",
    "periodicity = 0\n",
    "Revel = Rve(a,b,c,size_mesh)\n",
    "phases = []\n",
    "\n",
    "S = BasicGeometry(101,'ellipsoid', 0.5, 0.5, 0.5, 0, 0, 0, [0.3, 0.3, 0.4], '')\n",
    "elli = S.generate()\n",
    "\n",
    "listSolids = elli.Solids()\n",
    "\n",
    "from jupyter_cadquery import show, set_defaults, open_viewer\n",
    "from jupyter_cadquery.replay import enable_replay, disable_replay, reset_replay, get_context, replay, Replay, _CTX\n",
    "from jupyter_cadquery.cad_objects import to_assembly\n",
    "\n",
    "cv = open_viewer(\"Box\", cad_width=640, height=480)\n",
    "\n",
    "set_defaults(reset_camera=True, show_parent=False, axes=True, axes0=True)\n",
    "\n",
    "show(listSolids[0])"
   ]
  }
 ],
 "metadata": {
  "language_info": {
   "name": "python"
  },
  "orig_nbformat": 4
 },
 "nbformat": 4,
 "nbformat_minor": 2
}
