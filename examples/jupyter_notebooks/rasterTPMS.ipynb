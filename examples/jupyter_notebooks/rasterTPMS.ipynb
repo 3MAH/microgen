{
 "cells": [
  {
   "cell_type": "code",
   "execution_count": 49,
   "metadata": {},
   "outputs": [
    {
     "name": "stderr",
     "output_type": "stream",
     "text": [
      "Warning: new center 0.614078 -0.650108 0.151653\n",
      "Warning: new center 0.45872 -0.465081 0.480825\n",
      "Warning: new center 0.0989448 -0.582253 0.676886\n",
      "Warning: new center -0.482166 0.137375 -0.765202\n",
      "Warning: new center 0.290354 0.478456 -0.440404\n",
      "Warning: new center 0.507535 0.0822662 -0.678365\n",
      "Warning: new center -0.0728021 0.83109 -0.365688\n",
      "Warning: new center -0.236328 -0.320285 0.843484\n",
      "Warning: new center -0.646785 -0.523538 0.150192\n",
      "Warning: new center -0.28139 0.348155 -0.199694\n",
      "Warning: new center 0.313845 -0.0911817 0.914709\n",
      "Warning: new center -0.0631342 0.304039 0.907428\n",
      "Warning: new center 0.265983 -0.138895 -0.924592\n",
      "Warning: new center -0.12394 -0.412102 -0.742995\n",
      "Warning: new center -0.333876 0.378918 0.450121\n",
      "Warning: new center 0.328727 -0.578574 0.0999276\n",
      "Warning: new center 0.0218909 0.0942511 0.450436\n",
      "Warning: new center 0.390972 -0.155201 0.5143\n",
      "Warning: new center 0.175684 -0.259311 0.690841\n",
      "Warning: new center -0.485743 -0.261015 -0.785718\n",
      "Warning: new center -0.617026 -0.0471663 0.754437\n",
      "Refining...\n",
      "Legende of the following line: (#vertices,#steps,#facets,)\n",
      "(186,166,313,) (778.0 vertices/s)"
     ]
    },
    {
     "name": "stdout",
     "output_type": "stream",
     "text": [
      "scanning facets...\n"
     ]
    },
    {
     "name": "stderr",
     "output_type": "stream",
     "text": [
      "(9253,9233,0,) (639.3 vertices/s))))es/s)\n",
      "done.\n",
      "Warning: new center 0.614078 -0.650108 0.151653\n",
      "Warning: new center 0.45872 -0.465081 0.480825\n",
      "Warning: new center 0.0989448 -0.582253 0.676886\n",
      "Warning: new center -0.482166 0.137375 -0.765202\n",
      "Warning: new center 0.290354 0.478456 -0.440404\n",
      "Warning: new center 0.118759 0.0674484 0.864447\n",
      "Warning: new center 0.528086 0.774296 0.057546\n",
      "Warning: new center -0.152641 0.361457 0.529863\n",
      "Warning: new center 0.12171 0.609667 0.513585\n",
      "Warning: new center 0.129015 0.152594 0.903917\n",
      "Warning: new center -0.46767 0.347893 -0.782202\n",
      "Warning: new center 0.314455 -0.201922 0.296726\n",
      "Warning: new center 0.142789 -0.62871 0.598669\n",
      "Warning: new center -0.616237 -0.336147 -0.12387\n",
      "Warning: new center -0.703877 -0.452731 -0.145391\n",
      "Warning: new center 0.688864 0.239702 0.538146\n",
      "Warning: new center -0.7003 -0.232108 -0.358727\n",
      "Warning: new center -0.822456 -0.494839 -0.0442619\n",
      "Warning: new center 0.175684 -0.259311 0.690841\n",
      "Warning: new center 0.389452 -0.728143 0.484948\n",
      "Warning: new center 0.736385 -0.179497 0.13048\n",
      "Warning: new center 0.00466889 0.0267636 0.979613\n",
      "Refining...\n",
      "Legende of the following line: (#vertices,#steps,#facets,)\n",
      " 39,19,74,) (812.7 vertices/s)"
     ]
    },
    {
     "name": "stdout",
     "output_type": "stream",
     "text": [
      "scanning facets...\n"
     ]
    },
    {
     "name": "stderr",
     "output_type": "stream",
     "text": [
      "(9283,9263,0,) (638.2 vertices/s))))) (706.6 vertices/s)\n",
      "done.\n",
      "Warning: new center 0.614078 -0.650108 0.151653\n",
      "Warning: new center 0.45872 -0.465081 0.480825\n",
      "Warning: new center 0.0989448 -0.582253 0.676886\n",
      "Warning: new center -0.761158 -0.22232 -0.21445\n",
      "Warning: new center 0.290354 0.478456 -0.440404\n",
      "Warning: new center 0.0698471 -0.275913 -0.730537\n",
      "Warning: new center -0.0728021 0.83109 -0.365688\n",
      "Warning: new center -0.205733 -0.7114 -0.55197\n",
      "Warning: new center -0.315729 -0.761436 -0.125376\n",
      "Warning: new center 0.129015 0.152594 0.903917\n",
      "Warning: new center 0.661528 -0.20313 -0.278213\n",
      "Warning: new center 0.451533 -0.506274 -0.68687\n",
      "Warning: new center 0.313845 -0.0911817 0.914709\n",
      "Warning: new center 0.730267 0.13313 0.527447\n",
      "Warning: new center -0.219411 -0.272614 0.484096\n",
      "Warning: new center -0.12394 -0.412102 -0.742995\n",
      "Warning: new center 0.131852 0.363266 -0.677617\n",
      "Refining...\n",
      "Legende of the following line: (#vertices,#steps,#facets,)\n",
      "(74,54,118,) (850.9 vertices/s)"
     ]
    },
    {
     "name": "stdout",
     "output_type": "stream",
     "text": [
      "scanning facets...\n"
     ]
    },
    {
     "name": "stderr",
     "output_type": "stream",
     "text": [
      "(9152,9132,0,) (636.4 vertices/s))))\n",
      "done.\n",
      "Warning: new center 0.614078 -0.650108 0.151653\n",
      "Warning: new center 0.45872 -0.465081 0.480825\n",
      "Warning: new center 0.0989448 -0.582253 0.676886\n",
      "Warning: new center -0.482166 0.137375 -0.765202\n",
      "Warning: new center 0.290354 0.478456 -0.440404\n",
      "Warning: new center 0.118759 0.0674484 0.864447\n",
      "Warning: new center 0.528086 0.774296 0.057546\n",
      "Warning: new center -0.152641 0.361457 0.529863\n",
      "Warning: new center 0.12171 0.609667 0.513585\n",
      "Warning: new center 0.129015 0.152594 0.903917\n",
      "Warning: new center -0.46767 0.347893 -0.782202\n",
      "Warning: new center 0.314455 -0.201922 0.296726\n",
      "Warning: new center 0.142789 -0.62871 0.598669\n",
      "Warning: new center -0.616237 -0.336147 -0.12387\n",
      "Warning: new center -0.703877 -0.452731 -0.145391\n",
      "Warning: new center 0.688864 0.239702 0.538146\n",
      "Warning: new center -0.7003 -0.232108 -0.358727\n",
      "Warning: new center -0.822456 -0.494839 -0.0442619\n",
      "Warning: new center 0.175684 -0.259311 0.690841\n",
      "Warning: new center 0.389452 -0.728143 0.484948\n",
      "Warning: new center 0.736385 -0.179497 0.13048\n",
      "Warning: new center 0.00466889 0.0267636 0.979613\n",
      "Refining...\n",
      "Legende of the following line: (#vertices,#steps,#facets,)\n",
      "(218,198,351,) (941.4 vertices/s)"
     ]
    },
    {
     "name": "stdout",
     "output_type": "stream",
     "text": [
      "scanning facets...\n"
     ]
    },
    {
     "name": "stderr",
     "output_type": "stream",
     "text": [
      "(9142,9122,0,) (635.2 vertices/s))))) (754.7 vertices/s)) (642.2 vertices/s)\n",
      "done.\n"
     ]
    },
    {
     "name": "stdout",
     "output_type": "stream",
     "text": [
      "boxSolids [<cadquery.cq.Workplane object at 0x7f80e8e2e2b0>, <cadquery.cq.Workplane object at 0x7f81748cb430>, <cadquery.cq.Workplane object at 0x7f810ae73070>, <cadquery.cq.Workplane object at 0x7f810ae73d00>, <cadquery.cq.Workplane object at 0x7f80e8e2e1c0>]\n",
      "boxSolidsSize 5\n",
      "boxCut <cadquery.cq.Workplane object at 0x7f80e03dffd0>\n",
      "sheet [<cadquery.occ_impl.shapes.Solid object at 0x7f8113233df0>, <cadquery.occ_impl.shapes.Solid object at 0x7f810b010f10>, <cadquery.occ_impl.shapes.Solid object at 0x7f81131eb1f0>]\n",
      "skeletal [<cadquery.occ_impl.shapes.Solid object at 0x7f810b010250>, <cadquery.occ_impl.shapes.Solid object at 0x7f81131ebc40>]\n"
     ]
    }
   ],
   "source": [
    "import cadquery as cq\n",
    "from microgen import Rve, BasicGeometry, rasterShapeList, mesh\n",
    "\n",
    "# Size of the mesh\n",
    "size_mesh = 0.03\n",
    "a = 1.0\n",
    "b = 1.0\n",
    "c = 1.0\n",
    "\n",
    "periodicity = 0\n",
    "revel = Rve(a, b, c, size_mesh)\n",
    "\n",
    "surfaces = [\"gyroid\", \"schwarzP\", \"schwarzD\", \"neovius\"]\n",
    "parts = [\"skeletal\", \"sheet\"]\n",
    "\n",
    "geom = BasicGeometry(number=0, shape='tpms',\n",
    "                     xc=0.5, yc=0.5, zc=0.5,\n",
    "                     psi=0., theta=0., phi=0.,\n",
    "                     param_geom={\"type_surface\": surfaces[0],\n",
    "                                 \"type_part\": parts[0],\n",
    "                                 \"thickness\": 0.1},\n",
    "                     path_data='data')\n",
    "geom.geometry.createSurfaces(rve=revel,\n",
    "                             sizeMesh=0.03, minFacetAngle=20., maxRadius=0.03,\n",
    "                             path_data='data')\n",
    "part = geom.generate(rve=revel)\n",
    "\n",
    "# cq.exporters.export(skeletal, 'skeletal.step')\n",
    "\n",
    "# raster = rasterShapeList(cqShapeList=[skeletal], rve=revel, grid=[5, 5, 5])\n",
    "\n",
    "# compound = cq.Compound.makeCompound(raster[0])\n",
    "# cq.exporters.export(compound, 'compound.step')\n",
    "\n",
    "# mesh(mesh_file='compound.step', listPhases=raster[1], size=size_mesh, order=1, output_mesh=\"Mesh.msh\")\n"
   ]
  },
  {
   "cell_type": "code",
   "execution_count": 50,
   "metadata": {},
   "outputs": [],
   "source": [
    "from jupyter_cadquery import show, set_defaults, open_viewer\n",
    "from jupyter_cadquery.replay import enable_replay, disable_replay, reset_replay, get_context, replay, Replay, _CTX\n",
    "from jupyter_cadquery.cad_objects import to_assembly\n",
    "\n",
    "cv = open_viewer(\"Box\", cad_width=640, height=480)\n",
    "\n",
    "set_defaults(reset_camera=True, show_parent=False, axes=True, axes0=True)"
   ]
  },
  {
   "cell_type": "code",
   "execution_count": 51,
   "metadata": {},
   "outputs": [
    {
     "name": "stdout",
     "output_type": "stream",
     "text": [
      "  \n"
     ]
    },
    {
     "data": {
      "text/plain": [
       "<cad_viewer_widget.widget.CadViewer at 0x7f80e8da7580>"
      ]
     },
     "execution_count": 51,
     "metadata": {},
     "output_type": "execute_result"
    }
   ],
   "source": [
    "sheet = part.Solids()\n",
    "show(*sheet)"
   ]
  },
  {
   "cell_type": "code",
   "execution_count": null,
   "metadata": {},
   "outputs": [],
   "source": []
  }
 ],
 "metadata": {
  "kernelspec": {
   "display_name": "Python 3 (ipykernel)",
   "language": "python",
   "name": "python3"
  },
  "language_info": {
   "codemirror_mode": {
    "name": "ipython",
    "version": 3
   },
   "file_extension": ".py",
   "mimetype": "text/x-python",
   "name": "python",
   "nbconvert_exporter": "python",
   "pygments_lexer": "ipython3",
   "version": "3.9.11"
  }
 },
 "nbformat": 4,
 "nbformat_minor": 4
}
