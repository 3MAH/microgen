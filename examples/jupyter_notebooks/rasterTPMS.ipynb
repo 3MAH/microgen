{
 "cells": [
  {
   "cell_type": "code",
   "execution_count": null,
   "metadata": {},
   "outputs": [
    {
     "name": "stdout",
     "output_type": "stream",
     "text": [
      "scanning facets...\n"
     ]
    },
    {
     "name": "stderr",
     "output_type": "stream",
     "text": [
      "Warning: new center 0.614078 -0.650108 0.151653\n",
      "Warning: new center 0.45872 -0.465081 0.480825\n",
      "Warning: new center 0.0989448 -0.582253 0.676886\n",
      "Warning: new center -0.33685 -0.154868 0.900592\n",
      "Warning: new center -0.370477 0.157776 0.567861\n",
      "Warning: new center 0.507535 0.0822662 -0.678365\n",
      "Warning: new center 0.0701242 -0.552531 -0.770216\n",
      "Warning: new center -0.236328 -0.320285 0.843484\n",
      "Warning: new center -0.646785 -0.523538 0.150192\n",
      "Warning: new center 0.129015 0.152594 0.903917\n",
      "Warning: new center -0.46767 0.347893 -0.782202\n",
      "Warning: new center 0.451533 -0.506274 -0.68687\n",
      "Warning: new center 0.142789 -0.62871 0.598669\n",
      "Warning: new center -0.122039 -0.715344 0.178463\n",
      "Warning: new center 0.0674862 -0.438317 0.399231\n",
      "Warning: new center -0.323569 -0.786187 -0.264928\n",
      "Warning: new center -0.7003 -0.232108 -0.358727\n",
      "Warning: new center -0.00775907 -0.060216 -0.978208\n",
      "Warning: new center 0.0122643 -0.160227 -0.730307\n",
      "Warning: new center 0.320949 -0.429435 -0.802355\n",
      "Warning: new center 0.544556 0.392979 0.643796\n",
      "Warning: new center 0.00466889 0.0267636 0.979613\n",
      "Refining...\n",
      "Legende of the following line: (#vertices,#steps,#facets,)\n",
      "(3378,3358,3433,) (1708.6 vertices/s)9.4 vertices/s)839.8 vertices/s)7,1147,1935,) (1802.3 vertices/s)) (1790.9 vertices/s)rtices/s)) (1729.6 vertices/s)   rtices/s)           "
     ]
    }
   ],
   "source": [
    "import cadquery as cq\n",
    "from microgen import Rve, BasicGeometry, rasterShapeList, mesh\n",
    "\n",
    "# Size of the mesh\n",
    "size_mesh = 0.03\n",
    "a = 1.0\n",
    "b = 1.0\n",
    "c = 1.0\n",
    "\n",
    "periodicity = 0\n",
    "revel = Rve(a, b, c, size_mesh)\n",
    "\n",
    "surfaces = [\"gyroid\", \"schwarzP\", \"schwarzD\", \"neovius\"]\n",
    "parts = [\"skeletal\", \"sheet\"]\n",
    "\n",
    "geom = BasicGeometry(number=0, shape='tpms',\n",
    "                     xc=0.5, yc=0.5, zc=0.5,\n",
    "                     psi=0., theta=0., phi=0.,\n",
    "                     param_geom={\"type_surface\": surfaces[2],\n",
    "                                 \"type_part\": parts[0],\n",
    "                                 \"thickness\": 0.1},\n",
    "                     path_data='data')\n",
    "geom.geometry.createSurfaces(rve=revel,\n",
    "                             sizeMesh=0.03, minFacetAngle=20., maxRadius=0.03,\n",
    "                             path_data='data')\n",
    "part = geom.generate(rve=revel)\n",
    "\n",
    "# cq.exporters.export(skeletal, 'skeletal.step')\n",
    "\n",
    "# raster = rasterShapeList(cqShapeList=[skeletal], rve=revel, grid=[5, 5, 5])\n",
    "\n",
    "# compound = cq.Compound.makeCompound(raster[0])\n",
    "# cq.exporters.export(compound, 'compound.step')\n",
    "\n",
    "# mesh(mesh_file='compound.step', listPhases=raster[1], size=size_mesh, order=1)\n"
   ]
  },
  {
   "cell_type": "code",
   "execution_count": null,
   "metadata": {},
   "outputs": [],
   "source": [
    "from jupyter_cadquery import show, set_defaults, open_viewer\n",
    "from jupyter_cadquery.replay import enable_replay, disable_replay, reset_replay, get_context, replay, Replay, _CTX\n",
    "from jupyter_cadquery.cad_objects import to_assembly\n",
    "\n",
    "cv = open_viewer(\"Box\", cad_width=640, height=480)\n",
    "\n",
    "set_defaults(reset_camera=True, show_parent=False, axes=True, axes0=True)\n",
    "\n",
    "sheet = part.Solids()\n",
    "show(sheet[-1])"
   ]
  },
  {
   "cell_type": "code",
   "execution_count": null,
   "metadata": {},
   "outputs": [],
   "source": []
  }
 ],
 "metadata": {
  "kernelspec": {
   "display_name": "Python 3 (ipykernel)",
   "language": "python",
   "name": "python3"
  },
  "language_info": {
   "codemirror_mode": {
    "name": "ipython",
    "version": 3
   },
   "file_extension": ".py",
   "mimetype": "text/x-python",
   "name": "python",
   "nbconvert_exporter": "python",
   "pygments_lexer": "ipython3",
   "version": "3.9.11"
  }
 },
 "nbformat": 4,
 "nbformat_minor": 4
}
