{
 "cells": [
  {
   "cell_type": "markdown",
   "metadata": {},
   "source": [
    "`conda create -n example-microgen -y`\n",
    "\n",
    "`conda activate example-microgen`\n",
    "\n",
    "`conda install -c conda-forge -c set3mah microgen -y`\n",
    "\n",
    "`conda install -c conda-forge ipyvtklink`\n",
    "\n",
    "`conda install jupyterlab`\n",
    "\n",
    "Run this notebook with jupyter-lab"
   ]
  },
  {
   "cell_type": "code",
   "execution_count": null,
   "metadata": {},
   "outputs": [],
   "source": [
    "# Not working yet on Binder\n",
    "\n",
    "from microgen import *\n",
    "import pyvista as pv\n",
    "\n",
    "ellipsoid = Ellipsoid(radii=(0.3, 0.3, 0.4))\n",
    "polydata = ellipsoid.generate_vtk()\n",
    "\n",
    "pl = pv.Plotter()\n",
    "pl.add_mesh(polydata)\n",
    "pl.show()"
   ]
  }
 ],
 "metadata": {
  "interpreter": {
   "hash": "b60a6d5932f5a0ed885e581e32c543606129fafd331e07e76026e493a216ad00"
  },
  "kernelspec": {
   "display_name": "Python 3 (ipykernel)",
   "language": "python",
   "name": "python3"
  },
  "language_info": {
   "codemirror_mode": {
    "name": "ipython",
    "version": 3
   },
   "file_extension": ".py",
   "mimetype": "text/x-python",
   "name": "python",
   "nbconvert_exporter": "python",
   "pygments_lexer": "ipython3",
   "version": "3.9.13"
  }
 },
 "nbformat": 4,
 "nbformat_minor": 4
}
