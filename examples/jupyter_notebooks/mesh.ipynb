{
  "cells": [
    {
      "cell_type": "markdown",
      "metadata": {},
      "source": [
        "mmg is required, it can be installed with \n",
        "\n",
        "`conda install -c conda-forge -c set3mah mmg -y`"
      ]
    },
    {
      "cell_type": "code",
      "execution_count": null,
      "metadata": {},
      "outputs": [],
      "source": [
        "import cadquery as cq\n",
        "from microgen import Rve, Ellipsoid, mesh, Phase, rasterPhase\n",
        "\n",
        "rve = Rve(dim=1)\n",
        "\n",
        "elem = Ellipsoid(radii=(0.15, 0.31, 0.4))\n",
        "elli = elem.generate()\n",
        "\n",
        "raster = rasterPhase(phase=Phase(shape=elli), rve=rve, grid=[5, 5, 5])\n",
        "\n",
        "compound = cq.Compound.makeCompound([solid for phase in raster for solid in phase.solids])\n",
        "cq.exporters.export(compound, \"compound.step\")\n",
        "\n",
        "mesh(\n",
        "    mesh_file=\"compound.step\",\n",
        "    listPhases=raster,\n",
        "    size=0.03,\n",
        "    order=1,\n",
        "    output_file=\"rasterEllipsoid.vtk\",\n",
        ")\n"
      ]
    },
    {
      "cell_type": "code",
      "execution_count": null,
      "metadata": {},
      "outputs": [],
      "source": [
        "from ipygany import Scene, PolyMesh, IsoColor\n",
        "from sidecar import Sidecar\n",
        "\n",
        "sc = Sidecar(title='Sidecar Output')\n",
        "with sc:\n",
        "    mesh = PolyMesh.from_vtk('rasterEllipsoid.vtk')\n",
        "    mesh.default_color = 'gray'\n",
        "    \n",
        "    colored_mesh = IsoColor(mesh)\n",
        "\n",
        "    scene = Scene([colored_mesh])\n",
        "    display(scene)"
      ]
    }
  ],
  "metadata": {
    "kernelspec": {
      "display_name": "Python 3 (ipykernel)",
      "language": "python",
      "name": "python3"
    },
    "language_info": {
      "codemirror_mode": {
        "name": "ipython",
        "version": 3
      },
      "file_extension": ".py",
      "mimetype": "text/x-python",
      "name": "python",
      "nbconvert_exporter": "python",
      "pygments_lexer": "ipython3",
      "version": "3.9.13"
    }
  },
  "nbformat": 4,
  "nbformat_minor": 4
}
